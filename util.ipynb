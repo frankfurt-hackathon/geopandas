{
 "cells": [
  {
   "cell_type": "code",
   "execution_count": 1,
   "metadata": {},
   "outputs": [
    {
     "data": {
      "text/plain": [
       "'0.11'"
      ]
     },
     "execution_count": 1,
     "metadata": {},
     "output_type": "execute_result"
    }
   ],
   "source": [
    "import pandas as pd\n",
    "import geopandas as gpd\n",
    "import scipy as sp\n",
    "from scipy.spatial import KDTree\n",
    "import numpy as np\n",
    "import networkx as nx\n",
    "import osmnx as ox\n",
    "import requests\n",
    "import matplotlib.cm as cm\n",
    "import matplotlib.colors as colors\n",
    "from sklearn.metrics import mean_squared_log_error\n",
    "%matplotlib inline\n",
    "ox.config(use_cache=True, log_console=True)\n",
    "ox.__version__"
   ]
  },
  {
   "cell_type": "code",
   "execution_count": null,
   "metadata": {},
   "outputs": [],
   "source": [
    "def get_route(row, G):\n",
    "    \"\"\"Pandas apply function for getting the best route coordinates between two coordinates\"\"\"\n",
    "    try:\n",
    "        # get the nearest network nodes to two points\n",
    "        orig = ox.get_nearest_node(G, (row.pickup_latitude, row.pickup_longitude))\n",
    "        dest = ox.get_nearest_node(G, (row.dropoff_latitude, row.dropoff_longitude))\n",
    "\n",
    "        # find the route between these nodes then plot it\n",
    "        route = nx.shortest_path(G, orig, dest, weight='travel_time')\n",
    "        res = []\n",
    "        for node in route:\n",
    "            res.append((G.node[node]['y'], G.node[node]['x']))\n",
    "    except Exception as e:\n",
    "        print(e)\n",
    "        res = []\n",
    "    row['route'] = res\n",
    "    return row"
   ]
  },
  {
   "cell_type": "code",
   "execution_count": null,
   "metadata": {},
   "outputs": [],
   "source": [
    "def calc_distance(cord1, cord2):\n",
    "    \"\"\"Calculate distance in meters between two coordinates\"\"\"\n",
    "    # approximate radius of earth in km\n",
    "    R = 6373.0\n",
    "\n",
    "    lat1 = np.radians(cord1[0])\n",
    "    lon1 = np.radians(cord1[1])\n",
    "    lat2 = np.radians(cord2[0])\n",
    "    lon2 = np.radians(cord2[1])\n",
    "\n",
    "    dlon = lon2 - lon1\n",
    "    dlat = lat2 - lat1\n",
    "\n",
    "    a = np.sin(dlat / 2)**2 + np.cos(lat1) * np.cos(lat2) * np.sin(dlon / 2)**2\n",
    "    c = 2 * np.arctan2(np.sqrt(a), np.sqrt(1 - a))\n",
    "\n",
    "    distance = R * c * 1000\n",
    "    return distance\n",
    "\n",
    "calc_distance((40.735018, -74.003515), (40.735018, -74.003215))"
   ]
  },
  {
   "cell_type": "code",
   "execution_count": null,
   "metadata": {},
   "outputs": [],
   "source": [
    "def get_graph(query):\n",
    "    \"\"\"Get a networkx osmnx graph (nodes and edges) of a location defined by query\"\"\"\n",
    "    # get a graph for some city\n",
    "    G = ox.graph_from_place('Manhattan, New York City, New York, USA', network_type='drive')\n",
    "    fig, ax = ox.plot_graph(G, node_zorder=2, node_color='w', bgcolor='k')\n",
    "    \n",
    "    return G"
   ]
  },
  {
   "cell_type": "code",
   "execution_count": 2,
   "metadata": {},
   "outputs": [],
   "source": [
    "def plot_route(G, orig, dest):\n",
    "    \"\"\"Plot car route between two points in a graph from osmnx\"\"\"\n",
    "    # get the nearest network nodes to two points\n",
    "    orig = ox.get_nearest_node(G, orig)\n",
    "    dest = ox.get_nearest_node(G, dest)\n",
    "\n",
    "    # find the route between these nodes then plot it\n",
    "    route = nx.shortest_path(G, orig, dest, weight='travel_time')\n",
    "    fig, ax = ox.plot_graph_route(G, route, route_linewidth=6, node_size=0, bgcolor='k')"
   ]
  },
  {
   "cell_type": "code",
   "execution_count": null,
   "metadata": {},
   "outputs": [],
   "source": [
    "def evaluate(df, col1, col2):\n",
    "    \"\"\"Calculate root mean squared log error\"\"\"\n",
    "    df = df.drop_duplicates(subset='id').copy()\n",
    "    return np.sqrt(mean_squared_log_error(test_UNIQUE.trip_duration, test_UNIQUE.pred))"
   ]
  }
 ],
 "metadata": {
  "kernelspec": {
   "display_name": "Python 3",
   "language": "python",
   "name": "python3"
  },
  "language_info": {
   "codemirror_mode": {
    "name": "ipython",
    "version": 3
   },
   "file_extension": ".py",
   "mimetype": "text/x-python",
   "name": "python",
   "nbconvert_exporter": "python",
   "pygments_lexer": "ipython3",
   "version": "3.5.5"
  }
 },
 "nbformat": 4,
 "nbformat_minor": 2
}
