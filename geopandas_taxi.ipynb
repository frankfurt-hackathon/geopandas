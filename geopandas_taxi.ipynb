{
 "cells": [
  {
   "cell_type": "markdown",
   "metadata": {},
   "source": [
    "# Install Dependencies"
   ]
  },
  {
   "cell_type": "code",
   "execution_count": null,
   "metadata": {},
   "outputs": [],
   "source": [
    "!conda install -c anaconda -y networkx\n",
    "!conda install -c anaconda -y requests\n",
    "!conda install -c anaconda -y pandas # Important\n",
    "!conda install -c conda-forge -y geopandas\n",
    "!conda install -c anaconda -y scipy # Important\n",
    "!conda install -c anaconda -y numpy\n",
    "!conda install -c anaconda -y scikit-learn # Important Maybe\n",
    "!conda install -y osmnx=0.11.4"
   ]
  },
  {
   "cell_type": "code",
   "execution_count": 3,
   "metadata": {},
   "outputs": [],
   "source": [
    "# Import the notebook with some useful functions\n",
    "%run util.ipynb"
   ]
  },
  {
   "cell_type": "markdown",
   "metadata": {},
   "source": [
    "# Read Data"
   ]
  },
  {
   "cell_type": "code",
   "execution_count": 4,
   "metadata": {},
   "outputs": [],
   "source": [
    "test = pd.read_csv('data/processed_test.zip')\n",
    "train = pd.read_csv('data/processed_train.zip')"
   ]
  },
  {
   "cell_type": "code",
   "execution_count": 11,
   "metadata": {},
   "outputs": [
    {
     "name": "stdout",
     "output_type": "stream",
     "text": [
      "(790891, 16)\n",
      "(3927323, 16)\n"
     ]
    }
   ],
   "source": [
    "print(test.shape)\n",
    "print(train.shape)"
   ]
  },
  {
   "cell_type": "code",
   "execution_count": 5,
   "metadata": {},
   "outputs": [],
   "source": [
    "# Remove everything outside Manhattan area rectangle\n",
    "test = test[(test.pickup_longitude.between(-74.02, -73.91)) &\\\n",
    "            (test.pickup_latitude.between(40.70, 40.86)) & \\\n",
    "            (test.dropoff_longitude.between(-74.02, -73.91)) &\\\n",
    "            (test.dropoff_latitude.between(40.70, 40.86))]\n",
    "train = train[(train.pickup_longitude.between(-74.02, -73.91)) &\\\n",
    "            (train.pickup_latitude.between(40.70, 40.86)) & \\\n",
    "            (train.dropoff_longitude.between(-74.02, -73.91)) &\\\n",
    "            (train.dropoff_latitude.between(40.70, 40.86))]"
   ]
  },
  {
   "cell_type": "code",
   "execution_count": 13,
   "metadata": {},
   "outputs": [
    {
     "name": "stdout",
     "output_type": "stream",
     "text": [
      "(710982, 16)\n",
      "(3343247, 16)\n"
     ]
    }
   ],
   "source": [
    "print(test.shape)\n",
    "print(train.shape)"
   ]
  },
  {
   "cell_type": "code",
   "execution_count": 14,
   "metadata": {},
   "outputs": [
    {
     "data": {
      "text/html": [
       "<div>\n",
       "<style scoped>\n",
       "    .dataframe tbody tr th:only-of-type {\n",
       "        vertical-align: middle;\n",
       "    }\n",
       "\n",
       "    .dataframe tbody tr th {\n",
       "        vertical-align: top;\n",
       "    }\n",
       "\n",
       "    .dataframe thead th {\n",
       "        text-align: right;\n",
       "    }\n",
       "</style>\n",
       "<table border=\"1\" class=\"dataframe\">\n",
       "  <thead>\n",
       "    <tr style=\"text-align: right;\">\n",
       "      <th></th>\n",
       "      <th>Unnamed: 0</th>\n",
       "      <th>dropoff_datetime</th>\n",
       "      <th>dropoff_latitude</th>\n",
       "      <th>dropoff_longitude</th>\n",
       "      <th>id</th>\n",
       "      <th>passenger_count</th>\n",
       "      <th>pickup_datetime</th>\n",
       "      <th>pickup_latitude</th>\n",
       "      <th>pickup_longitude</th>\n",
       "      <th>store_and_fwd_flag</th>\n",
       "      <th>trip_duration</th>\n",
       "      <th>vendor_id</th>\n",
       "      <th>node_lat</th>\n",
       "      <th>node_lng</th>\n",
       "      <th>order</th>\n",
       "      <th>osm_node</th>\n",
       "    </tr>\n",
       "  </thead>\n",
       "  <tbody>\n",
       "    <tr>\n",
       "      <th>0</th>\n",
       "      <td>0</td>\n",
       "      <td>2016-02-18 23:59:21</td>\n",
       "      <td>40.759827</td>\n",
       "      <td>-73.98983</td>\n",
       "      <td>id3070143</td>\n",
       "      <td>1</td>\n",
       "      <td>2016-02-18 23:50:13</td>\n",
       "      <td>40.750599</td>\n",
       "      <td>-73.968559</td>\n",
       "      <td>N</td>\n",
       "      <td>548</td>\n",
       "      <td>1</td>\n",
       "      <td>40.750751</td>\n",
       "      <td>-73.968402</td>\n",
       "      <td>0</td>\n",
       "      <td>42444055</td>\n",
       "    </tr>\n",
       "    <tr>\n",
       "      <th>1</th>\n",
       "      <td>1</td>\n",
       "      <td>2016-02-18 23:59:21</td>\n",
       "      <td>40.759827</td>\n",
       "      <td>-73.98983</td>\n",
       "      <td>id3070143</td>\n",
       "      <td>1</td>\n",
       "      <td>2016-02-18 23:50:13</td>\n",
       "      <td>40.750599</td>\n",
       "      <td>-73.968559</td>\n",
       "      <td>N</td>\n",
       "      <td>548</td>\n",
       "      <td>1</td>\n",
       "      <td>40.751748</td>\n",
       "      <td>-73.970804</td>\n",
       "      <td>1</td>\n",
       "      <td>42442947</td>\n",
       "    </tr>\n",
       "    <tr>\n",
       "      <th>2</th>\n",
       "      <td>2</td>\n",
       "      <td>2016-02-18 23:59:21</td>\n",
       "      <td>40.759827</td>\n",
       "      <td>-73.98983</td>\n",
       "      <td>id3070143</td>\n",
       "      <td>1</td>\n",
       "      <td>2016-02-18 23:50:13</td>\n",
       "      <td>40.750599</td>\n",
       "      <td>-73.968559</td>\n",
       "      <td>N</td>\n",
       "      <td>548</td>\n",
       "      <td>1</td>\n",
       "      <td>40.752692</td>\n",
       "      <td>-73.973037</td>\n",
       "      <td>2</td>\n",
       "      <td>42444051</td>\n",
       "    </tr>\n",
       "    <tr>\n",
       "      <th>3</th>\n",
       "      <td>3</td>\n",
       "      <td>2016-02-18 23:59:21</td>\n",
       "      <td>40.759827</td>\n",
       "      <td>-73.98983</td>\n",
       "      <td>id3070143</td>\n",
       "      <td>1</td>\n",
       "      <td>2016-02-18 23:50:13</td>\n",
       "      <td>40.750599</td>\n",
       "      <td>-73.968559</td>\n",
       "      <td>N</td>\n",
       "      <td>548</td>\n",
       "      <td>1</td>\n",
       "      <td>40.753367</td>\n",
       "      <td>-73.974648</td>\n",
       "      <td>3</td>\n",
       "      <td>42444049</td>\n",
       "    </tr>\n",
       "    <tr>\n",
       "      <th>4</th>\n",
       "      <td>4</td>\n",
       "      <td>2016-02-18 23:59:21</td>\n",
       "      <td>40.759827</td>\n",
       "      <td>-73.98983</td>\n",
       "      <td>id3070143</td>\n",
       "      <td>1</td>\n",
       "      <td>2016-02-18 23:50:13</td>\n",
       "      <td>40.750599</td>\n",
       "      <td>-73.968559</td>\n",
       "      <td>N</td>\n",
       "      <td>548</td>\n",
       "      <td>1</td>\n",
       "      <td>40.754349</td>\n",
       "      <td>-73.976974</td>\n",
       "      <td>4</td>\n",
       "      <td>42443810</td>\n",
       "    </tr>\n",
       "  </tbody>\n",
       "</table>\n",
       "</div>"
      ],
      "text/plain": [
       "   Unnamed: 0     dropoff_datetime  dropoff_latitude  dropoff_longitude  \\\n",
       "0           0  2016-02-18 23:59:21         40.759827          -73.98983   \n",
       "1           1  2016-02-18 23:59:21         40.759827          -73.98983   \n",
       "2           2  2016-02-18 23:59:21         40.759827          -73.98983   \n",
       "3           3  2016-02-18 23:59:21         40.759827          -73.98983   \n",
       "4           4  2016-02-18 23:59:21         40.759827          -73.98983   \n",
       "\n",
       "          id  passenger_count      pickup_datetime  pickup_latitude  \\\n",
       "0  id3070143                1  2016-02-18 23:50:13        40.750599   \n",
       "1  id3070143                1  2016-02-18 23:50:13        40.750599   \n",
       "2  id3070143                1  2016-02-18 23:50:13        40.750599   \n",
       "3  id3070143                1  2016-02-18 23:50:13        40.750599   \n",
       "4  id3070143                1  2016-02-18 23:50:13        40.750599   \n",
       "\n",
       "   pickup_longitude store_and_fwd_flag  trip_duration  vendor_id   node_lat  \\\n",
       "0        -73.968559                  N            548          1  40.750751   \n",
       "1        -73.968559                  N            548          1  40.751748   \n",
       "2        -73.968559                  N            548          1  40.752692   \n",
       "3        -73.968559                  N            548          1  40.753367   \n",
       "4        -73.968559                  N            548          1  40.754349   \n",
       "\n",
       "    node_lng  order  osm_node  \n",
       "0 -73.968402      0  42444055  \n",
       "1 -73.970804      1  42442947  \n",
       "2 -73.973037      2  42444051  \n",
       "3 -73.974648      3  42444049  \n",
       "4 -73.976974      4  42443810  "
      ]
     },
     "execution_count": 14,
     "metadata": {},
     "output_type": "execute_result"
    }
   ],
   "source": [
    "train.head()"
   ]
  },
  {
   "cell_type": "markdown",
   "metadata": {},
   "source": [
    "# Get Graph (map)\n",
    "\n",
    "* Get a graph (nodes and edges) of a preferred location using string address\n",
    "* Plot a random route just as demo\n",
    "* This demo shows how to get the best route (theoritcally) between two coordinats (it is relatively slow process)\n",
    "* You only need to use this if you want to imporve the data we already created as we already saved the best routes in the csv"
   ]
  },
  {
   "cell_type": "code",
   "execution_count": 9,
   "metadata": {},
   "outputs": [
    {
     "data": {
      "image/png": "[encoded data removed]",
      "text/plain": [
       "<Figure size 272.292x432 with 1 Axes>"
      ]
     },
     "metadata": {},
     "output_type": "display_data"
    }
   ],
   "source": [
    "G = get_graph('Manhattan, New York City, New York, USA')"
   ]
  },
  {
   "cell_type": "code",
   "execution_count": 10,
   "metadata": {},
   "outputs": [
    {
     "data": {
      "image/png": "[encoded data removed]",
      "text/plain": [
       "<Figure size 272.292x432 with 1 Axes>"
      ]
     },
     "metadata": {},
     "output_type": "display_data"
    }
   ],
   "source": [
    "plot_route(G, (40.735018, -74.003215), (40.710040, -74.007163))"
   ]
  },
  {
   "cell_type": "markdown",
   "metadata": {},
   "source": [
    "# Example (geoindex)\n",
    "\n",
    "* Here we create a KDTree and demo how to get nearest points from our dataframe with O(1) time"
   ]
  },
  {
   "cell_type": "code",
   "execution_count": 11,
   "metadata": {},
   "outputs": [
    {
     "name": "stderr",
     "output_type": "stream",
     "text": [
      "<ipython-input-11-106dd07d7312>:1: FutureWarning: The pandas.np module is deprecated and will be removed from pandas in a future version. Import numpy directly instead\n",
      "  noise = pd.np.random.uniform(0, 0.000001, size=(len(train), 2))\n"
     ]
    }
   ],
   "source": [
    "noise = pd.np.random.uniform(0, 0.000001, size=(len(train), 2))\n",
    "tree = KDTree(data=train[['node_lat', 'node_lng']].values + noise)"
   ]
  },
  {
   "cell_type": "code",
   "execution_count": 12,
   "metadata": {},
   "outputs": [
    {
     "data": {
      "text/html": [
       "<div>\n",
       "<style scoped>\n",
       "    .dataframe tbody tr th:only-of-type {\n",
       "        vertical-align: middle;\n",
       "    }\n",
       "\n",
       "    .dataframe tbody tr th {\n",
       "        vertical-align: top;\n",
       "    }\n",
       "\n",
       "    .dataframe thead th {\n",
       "        text-align: right;\n",
       "    }\n",
       "</style>\n",
       "<table border=\"1\" class=\"dataframe\">\n",
       "  <thead>\n",
       "    <tr style=\"text-align: right;\">\n",
       "      <th></th>\n",
       "      <th>Unnamed: 0</th>\n",
       "      <th>dropoff_datetime</th>\n",
       "      <th>dropoff_latitude</th>\n",
       "      <th>dropoff_longitude</th>\n",
       "      <th>id</th>\n",
       "      <th>passenger_count</th>\n",
       "      <th>pickup_datetime</th>\n",
       "      <th>pickup_latitude</th>\n",
       "      <th>pickup_longitude</th>\n",
       "      <th>store_and_fwd_flag</th>\n",
       "      <th>trip_duration</th>\n",
       "      <th>vendor_id</th>\n",
       "      <th>node_lat</th>\n",
       "      <th>node_lng</th>\n",
       "      <th>order</th>\n",
       "      <th>osm_node</th>\n",
       "    </tr>\n",
       "  </thead>\n",
       "  <tbody>\n",
       "    <tr>\n",
       "      <th>1620548</th>\n",
       "      <td>1620548</td>\n",
       "      <td>2016-01-13 16:30:18</td>\n",
       "      <td>40.734341</td>\n",
       "      <td>-74.008522</td>\n",
       "      <td>id0748042</td>\n",
       "      <td>1</td>\n",
       "      <td>2016-01-13 16:20:39</td>\n",
       "      <td>40.740768</td>\n",
       "      <td>-73.990120</td>\n",
       "      <td>N</td>\n",
       "      <td>579</td>\n",
       "      <td>1</td>\n",
       "      <td>40.734891</td>\n",
       "      <td>-74.003153</td>\n",
       "      <td>17</td>\n",
       "      <td>42452598</td>\n",
       "    </tr>\n",
       "    <tr>\n",
       "      <th>3085896</th>\n",
       "      <td>3085896</td>\n",
       "      <td>2016-01-11 14:39:53</td>\n",
       "      <td>40.734604</td>\n",
       "      <td>-74.005981</td>\n",
       "      <td>id1387519</td>\n",
       "      <td>1</td>\n",
       "      <td>2016-01-11 14:32:36</td>\n",
       "      <td>40.735985</td>\n",
       "      <td>-73.993614</td>\n",
       "      <td>N</td>\n",
       "      <td>437</td>\n",
       "      <td>1</td>\n",
       "      <td>40.734891</td>\n",
       "      <td>-74.003153</td>\n",
       "      <td>9</td>\n",
       "      <td>42452598</td>\n",
       "    </tr>\n",
       "    <tr>\n",
       "      <th>380214</th>\n",
       "      <td>380214</td>\n",
       "      <td>2016-01-29 21:41:27</td>\n",
       "      <td>40.734695</td>\n",
       "      <td>-74.004646</td>\n",
       "      <td>id0056842</td>\n",
       "      <td>1</td>\n",
       "      <td>2016-01-29 21:32:39</td>\n",
       "      <td>40.726124</td>\n",
       "      <td>-74.001450</td>\n",
       "      <td>N</td>\n",
       "      <td>528</td>\n",
       "      <td>2</td>\n",
       "      <td>40.734891</td>\n",
       "      <td>-74.003153</td>\n",
       "      <td>17</td>\n",
       "      <td>42452598</td>\n",
       "    </tr>\n",
       "    <tr>\n",
       "      <th>435011</th>\n",
       "      <td>435011</td>\n",
       "      <td>2016-02-12 00:36:45</td>\n",
       "      <td>40.738144</td>\n",
       "      <td>-74.009048</td>\n",
       "      <td>id1777013</td>\n",
       "      <td>1</td>\n",
       "      <td>2016-02-12 00:30:48</td>\n",
       "      <td>40.733734</td>\n",
       "      <td>-74.002335</td>\n",
       "      <td>N</td>\n",
       "      <td>357</td>\n",
       "      <td>2</td>\n",
       "      <td>40.734891</td>\n",
       "      <td>-74.003153</td>\n",
       "      <td>3</td>\n",
       "      <td>42452598</td>\n",
       "    </tr>\n",
       "    <tr>\n",
       "      <th>1610027</th>\n",
       "      <td>1610027</td>\n",
       "      <td>2016-02-27 20:47:05</td>\n",
       "      <td>40.740192</td>\n",
       "      <td>-74.005653</td>\n",
       "      <td>id3546252</td>\n",
       "      <td>1</td>\n",
       "      <td>2016-02-27 20:42:35</td>\n",
       "      <td>40.734051</td>\n",
       "      <td>-74.002876</td>\n",
       "      <td>N</td>\n",
       "      <td>270</td>\n",
       "      <td>2</td>\n",
       "      <td>40.734891</td>\n",
       "      <td>-74.003153</td>\n",
       "      <td>1</td>\n",
       "      <td>42452598</td>\n",
       "    </tr>\n",
       "    <tr>\n",
       "      <th>...</th>\n",
       "      <td>...</td>\n",
       "      <td>...</td>\n",
       "      <td>...</td>\n",
       "      <td>...</td>\n",
       "      <td>...</td>\n",
       "      <td>...</td>\n",
       "      <td>...</td>\n",
       "      <td>...</td>\n",
       "      <td>...</td>\n",
       "      <td>...</td>\n",
       "      <td>...</td>\n",
       "      <td>...</td>\n",
       "      <td>...</td>\n",
       "      <td>...</td>\n",
       "      <td>...</td>\n",
       "      <td>...</td>\n",
       "    </tr>\n",
       "    <tr>\n",
       "      <th>2494943</th>\n",
       "      <td>2494943</td>\n",
       "      <td>2016-02-01 21:30:34</td>\n",
       "      <td>40.733326</td>\n",
       "      <td>-74.008400</td>\n",
       "      <td>id1247731</td>\n",
       "      <td>1</td>\n",
       "      <td>2016-02-01 21:24:48</td>\n",
       "      <td>40.736771</td>\n",
       "      <td>-73.997513</td>\n",
       "      <td>N</td>\n",
       "      <td>346</td>\n",
       "      <td>1</td>\n",
       "      <td>40.734891</td>\n",
       "      <td>-74.003153</td>\n",
       "      <td>7</td>\n",
       "      <td>42452598</td>\n",
       "    </tr>\n",
       "    <tr>\n",
       "      <th>2756240</th>\n",
       "      <td>2756240</td>\n",
       "      <td>2016-06-23 09:52:01</td>\n",
       "      <td>40.734192</td>\n",
       "      <td>-74.010040</td>\n",
       "      <td>id1145728</td>\n",
       "      <td>2</td>\n",
       "      <td>2016-06-23 09:40:29</td>\n",
       "      <td>40.724884</td>\n",
       "      <td>-73.994331</td>\n",
       "      <td>N</td>\n",
       "      <td>692</td>\n",
       "      <td>1</td>\n",
       "      <td>40.734891</td>\n",
       "      <td>-74.003153</td>\n",
       "      <td>19</td>\n",
       "      <td>42452598</td>\n",
       "    </tr>\n",
       "    <tr>\n",
       "      <th>3211168</th>\n",
       "      <td>3211168</td>\n",
       "      <td>2016-04-01 07:13:03</td>\n",
       "      <td>40.733700</td>\n",
       "      <td>-74.006920</td>\n",
       "      <td>id0665117</td>\n",
       "      <td>1</td>\n",
       "      <td>2016-04-01 07:02:43</td>\n",
       "      <td>40.730759</td>\n",
       "      <td>-73.982979</td>\n",
       "      <td>N</td>\n",
       "      <td>620</td>\n",
       "      <td>2</td>\n",
       "      <td>40.734891</td>\n",
       "      <td>-74.003153</td>\n",
       "      <td>14</td>\n",
       "      <td>42452598</td>\n",
       "    </tr>\n",
       "    <tr>\n",
       "      <th>1031658</th>\n",
       "      <td>1031658</td>\n",
       "      <td>2016-06-04 19:15:45</td>\n",
       "      <td>40.735500</td>\n",
       "      <td>-74.003357</td>\n",
       "      <td>id2725912</td>\n",
       "      <td>2</td>\n",
       "      <td>2016-06-04 18:55:26</td>\n",
       "      <td>40.726292</td>\n",
       "      <td>-73.980324</td>\n",
       "      <td>N</td>\n",
       "      <td>1219</td>\n",
       "      <td>2</td>\n",
       "      <td>40.734891</td>\n",
       "      <td>-74.003153</td>\n",
       "      <td>20</td>\n",
       "      <td>42452598</td>\n",
       "    </tr>\n",
       "    <tr>\n",
       "      <th>3070591</th>\n",
       "      <td>3070591</td>\n",
       "      <td>2016-06-09 21:23:14</td>\n",
       "      <td>40.735424</td>\n",
       "      <td>-74.003349</td>\n",
       "      <td>id1203667</td>\n",
       "      <td>3</td>\n",
       "      <td>2016-06-09 21:14:16</td>\n",
       "      <td>40.729885</td>\n",
       "      <td>-73.991737</td>\n",
       "      <td>N</td>\n",
       "      <td>538</td>\n",
       "      <td>1</td>\n",
       "      <td>40.734891</td>\n",
       "      <td>-74.003153</td>\n",
       "      <td>12</td>\n",
       "      <td>42452598</td>\n",
       "    </tr>\n",
       "  </tbody>\n",
       "</table>\n",
       "<p>199 rows × 16 columns</p>\n",
       "</div>"
      ],
      "text/plain": [
       "         Unnamed: 0     dropoff_datetime  dropoff_latitude  dropoff_longitude  \\\n",
       "1620548     1620548  2016-01-13 16:30:18         40.734341         -74.008522   \n",
       "3085896     3085896  2016-01-11 14:39:53         40.734604         -74.005981   \n",
       "380214       380214  2016-01-29 21:41:27         40.734695         -74.004646   \n",
       "435011       435011  2016-02-12 00:36:45         40.738144         -74.009048   \n",
       "1610027     1610027  2016-02-27 20:47:05         40.740192         -74.005653   \n",
       "...             ...                  ...               ...                ...   \n",
       "2494943     2494943  2016-02-01 21:30:34         40.733326         -74.008400   \n",
       "2756240     2756240  2016-06-23 09:52:01         40.734192         -74.010040   \n",
       "3211168     3211168  2016-04-01 07:13:03         40.733700         -74.006920   \n",
       "1031658     1031658  2016-06-04 19:15:45         40.735500         -74.003357   \n",
       "3070591     3070591  2016-06-09 21:23:14         40.735424         -74.003349   \n",
       "\n",
       "                id  passenger_count      pickup_datetime  pickup_latitude  \\\n",
       "1620548  id0748042                1  2016-01-13 16:20:39        40.740768   \n",
       "3085896  id1387519                1  2016-01-11 14:32:36        40.735985   \n",
       "380214   id0056842                1  2016-01-29 21:32:39        40.726124   \n",
       "435011   id1777013                1  2016-02-12 00:30:48        40.733734   \n",
       "1610027  id3546252                1  2016-02-27 20:42:35        40.734051   \n",
       "...            ...              ...                  ...              ...   \n",
       "2494943  id1247731                1  2016-02-01 21:24:48        40.736771   \n",
       "2756240  id1145728                2  2016-06-23 09:40:29        40.724884   \n",
       "3211168  id0665117                1  2016-04-01 07:02:43        40.730759   \n",
       "1031658  id2725912                2  2016-06-04 18:55:26        40.726292   \n",
       "3070591  id1203667                3  2016-06-09 21:14:16        40.729885   \n",
       "\n",
       "         pickup_longitude store_and_fwd_flag  trip_duration  vendor_id  \\\n",
       "1620548        -73.990120                  N            579          1   \n",
       "3085896        -73.993614                  N            437          1   \n",
       "380214         -74.001450                  N            528          2   \n",
       "435011         -74.002335                  N            357          2   \n",
       "1610027        -74.002876                  N            270          2   \n",
       "...                   ...                ...            ...        ...   \n",
       "2494943        -73.997513                  N            346          1   \n",
       "2756240        -73.994331                  N            692          1   \n",
       "3211168        -73.982979                  N            620          2   \n",
       "1031658        -73.980324                  N           1219          2   \n",
       "3070591        -73.991737                  N            538          1   \n",
       "\n",
       "          node_lat   node_lng  order  osm_node  \n",
       "1620548  40.734891 -74.003153     17  42452598  \n",
       "3085896  40.734891 -74.003153      9  42452598  \n",
       "380214   40.734891 -74.003153     17  42452598  \n",
       "435011   40.734891 -74.003153      3  42452598  \n",
       "1610027  40.734891 -74.003153      1  42452598  \n",
       "...            ...        ...    ...       ...  \n",
       "2494943  40.734891 -74.003153      7  42452598  \n",
       "2756240  40.734891 -74.003153     19  42452598  \n",
       "3211168  40.734891 -74.003153     14  42452598  \n",
       "1031658  40.734891 -74.003153     20  42452598  \n",
       "3070591  40.734891 -74.003153     12  42452598  \n",
       "\n",
       "[199 rows x 16 columns]"
      ]
     },
     "execution_count": 12,
     "metadata": {},
     "output_type": "execute_result"
    }
   ],
   "source": [
    "train.iloc[tree.query_ball_point((40.735018, -74.003215), 0.0003)]"
   ]
  },
  {
   "cell_type": "markdown",
   "metadata": {},
   "source": [
    "# Baseline\n",
    "\n",
    "* Here we are predicting that all taxi rides in the test set will take simply the average time in the training set\n",
    "* This is the baseline to beat"
   ]
  },
  {
   "cell_type": "code",
   "execution_count": 13,
   "metadata": {},
   "outputs": [
    {
     "data": {
      "text/plain": [
       "trip_duration    871.235925\n",
       "dtype: float64"
      ]
     },
     "execution_count": 13,
     "metadata": {},
     "output_type": "execute_result"
    }
   ],
   "source": [
    "# Calc mean trip duration in the training set\n",
    "mean = train.groupby('id').agg({'trip_duration': 'first'}).mean()\n",
    "test['pred'] = mean['trip_duration']\n",
    "mean"
   ]
  },
  {
   "cell_type": "code",
   "execution_count": 14,
   "metadata": {},
   "outputs": [
    {
     "data": {
      "text/plain": [
       "1.0872240148148207"
      ]
     },
     "execution_count": 14,
     "metadata": {},
     "output_type": "execute_result"
    }
   ],
   "source": [
    "# Evaluate\n",
    "evaluate(test, 'trip_duration', 'pred')"
   ]
  }
 ],
 "metadata": {
  "kernelspec": {
   "display_name": "geopandas",
   "language": "python",
   "name": "geopandas"
  },
  "language_info": {
   "codemirror_mode": {
    "name": "ipython",
    "version": 3
   },
   "file_extension": ".py",
   "mimetype": "text/x-python",
   "name": "python",
   "nbconvert_exporter": "python",
   "pygments_lexer": "ipython3",
   "version": "3.8.5"
  },
  "toc": {
   "base_numbering": 1,
   "nav_menu": {},
   "number_sections": true,
   "sideBar": true,
   "skip_h1_title": false,
   "title_cell": "Table of Contents",
   "title_sidebar": "Contents",
   "toc_cell": false,
   "toc_position": {},
   "toc_section_display": true,
   "toc_window_display": false
  }
 },
 "nbformat": 4,
 "nbformat_minor": 2
}
